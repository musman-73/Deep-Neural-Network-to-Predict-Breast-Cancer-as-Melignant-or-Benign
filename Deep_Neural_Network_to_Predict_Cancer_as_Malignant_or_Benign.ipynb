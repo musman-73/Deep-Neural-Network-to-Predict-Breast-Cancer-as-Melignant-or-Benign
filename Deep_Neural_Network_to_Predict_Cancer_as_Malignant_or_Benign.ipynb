{
  "nbformat": 4,
  "nbformat_minor": 0,
  "metadata": {
    "colab": {
      "name": "Deep Neural Network to Predict Cancer as Malignant or Benign.ipynb",
      "provenance": [],
      "collapsed_sections": []
    },
    "kernelspec": {
      "name": "python3",
      "display_name": "Python 3"
    },
    "language_info": {
      "name": "python"
    }
  },
  "cells": [
    {
      "cell_type": "markdown",
      "metadata": {
        "id": "VkqUuNxND9Jb"
      },
      "source": [
        "**Importing the required libraries and setting the variables.**"
      ]
    },
    {
      "cell_type": "code",
      "metadata": {
        "id": "zs4oLsxP5xFN"
      },
      "source": [
        "#Importing the required functions\n",
        "\n",
        "import tensorflow as tf\n",
        "from tensorflow.keras.models import Sequential\n",
        "from tensorflow.keras.layers import Input, Dense\n",
        "\n",
        "#Importing the dataset\n",
        "\n",
        "from sklearn.datasets import load_breast_cancer\n",
        "dataset = load_breast_cancer()"
      ],
      "execution_count": 1,
      "outputs": []
    },
    {
      "cell_type": "code",
      "metadata": {
        "colab": {
          "base_uri": "https://localhost:8080/"
        },
        "id": "XWGrpnK192LH",
        "outputId": "400bfef4-a265-4d6a-e197-6a143ce8e531"
      },
      "source": [
        "#Printing the description of the dataset\n",
        "\n",
        "print(dataset.DESCR)"
      ],
      "execution_count": 2,
      "outputs": [
        {
          "output_type": "stream",
          "text": [
            ".. _breast_cancer_dataset:\n",
            "\n",
            "Breast cancer wisconsin (diagnostic) dataset\n",
            "--------------------------------------------\n",
            "\n",
            "**Data Set Characteristics:**\n",
            "\n",
            "    :Number of Instances: 569\n",
            "\n",
            "    :Number of Attributes: 30 numeric, predictive attributes and the class\n",
            "\n",
            "    :Attribute Information:\n",
            "        - radius (mean of distances from center to points on the perimeter)\n",
            "        - texture (standard deviation of gray-scale values)\n",
            "        - perimeter\n",
            "        - area\n",
            "        - smoothness (local variation in radius lengths)\n",
            "        - compactness (perimeter^2 / area - 1.0)\n",
            "        - concavity (severity of concave portions of the contour)\n",
            "        - concave points (number of concave portions of the contour)\n",
            "        - symmetry \n",
            "        - fractal dimension (\"coastline approximation\" - 1)\n",
            "\n",
            "        The mean, standard error, and \"worst\" or largest (mean of the three\n",
            "        largest values) of these features were computed for each image,\n",
            "        resulting in 30 features.  For instance, field 3 is Mean Radius, field\n",
            "        13 is Radius SE, field 23 is Worst Radius.\n",
            "\n",
            "        - class:\n",
            "                - WDBC-Malignant\n",
            "                - WDBC-Benign\n",
            "\n",
            "    :Summary Statistics:\n",
            "\n",
            "    ===================================== ====== ======\n",
            "                                           Min    Max\n",
            "    ===================================== ====== ======\n",
            "    radius (mean):                        6.981  28.11\n",
            "    texture (mean):                       9.71   39.28\n",
            "    perimeter (mean):                     43.79  188.5\n",
            "    area (mean):                          143.5  2501.0\n",
            "    smoothness (mean):                    0.053  0.163\n",
            "    compactness (mean):                   0.019  0.345\n",
            "    concavity (mean):                     0.0    0.427\n",
            "    concave points (mean):                0.0    0.201\n",
            "    symmetry (mean):                      0.106  0.304\n",
            "    fractal dimension (mean):             0.05   0.097\n",
            "    radius (standard error):              0.112  2.873\n",
            "    texture (standard error):             0.36   4.885\n",
            "    perimeter (standard error):           0.757  21.98\n",
            "    area (standard error):                6.802  542.2\n",
            "    smoothness (standard error):          0.002  0.031\n",
            "    compactness (standard error):         0.002  0.135\n",
            "    concavity (standard error):           0.0    0.396\n",
            "    concave points (standard error):      0.0    0.053\n",
            "    symmetry (standard error):            0.008  0.079\n",
            "    fractal dimension (standard error):   0.001  0.03\n",
            "    radius (worst):                       7.93   36.04\n",
            "    texture (worst):                      12.02  49.54\n",
            "    perimeter (worst):                    50.41  251.2\n",
            "    area (worst):                         185.2  4254.0\n",
            "    smoothness (worst):                   0.071  0.223\n",
            "    compactness (worst):                  0.027  1.058\n",
            "    concavity (worst):                    0.0    1.252\n",
            "    concave points (worst):               0.0    0.291\n",
            "    symmetry (worst):                     0.156  0.664\n",
            "    fractal dimension (worst):            0.055  0.208\n",
            "    ===================================== ====== ======\n",
            "\n",
            "    :Missing Attribute Values: None\n",
            "\n",
            "    :Class Distribution: 212 - Malignant, 357 - Benign\n",
            "\n",
            "    :Creator:  Dr. William H. Wolberg, W. Nick Street, Olvi L. Mangasarian\n",
            "\n",
            "    :Donor: Nick Street\n",
            "\n",
            "    :Date: November, 1995\n",
            "\n",
            "This is a copy of UCI ML Breast Cancer Wisconsin (Diagnostic) datasets.\n",
            "https://goo.gl/U2Uwz2\n",
            "\n",
            "Features are computed from a digitized image of a fine needle\n",
            "aspirate (FNA) of a breast mass.  They describe\n",
            "characteristics of the cell nuclei present in the image.\n",
            "\n",
            "Separating plane described above was obtained using\n",
            "Multisurface Method-Tree (MSM-T) [K. P. Bennett, \"Decision Tree\n",
            "Construction Via Linear Programming.\" Proceedings of the 4th\n",
            "Midwest Artificial Intelligence and Cognitive Science Society,\n",
            "pp. 97-101, 1992], a classification method which uses linear\n",
            "programming to construct a decision tree.  Relevant features\n",
            "were selected using an exhaustive search in the space of 1-4\n",
            "features and 1-3 separating planes.\n",
            "\n",
            "The actual linear program used to obtain the separating plane\n",
            "in the 3-dimensional space is that described in:\n",
            "[K. P. Bennett and O. L. Mangasarian: \"Robust Linear\n",
            "Programming Discrimination of Two Linearly Inseparable Sets\",\n",
            "Optimization Methods and Software 1, 1992, 23-34].\n",
            "\n",
            "This database is also available through the UW CS ftp server:\n",
            "\n",
            "ftp ftp.cs.wisc.edu\n",
            "cd math-prog/cpo-dataset/machine-learn/WDBC/\n",
            "\n",
            ".. topic:: References\n",
            "\n",
            "   - W.N. Street, W.H. Wolberg and O.L. Mangasarian. Nuclear feature extraction \n",
            "     for breast tumor diagnosis. IS&T/SPIE 1993 International Symposium on \n",
            "     Electronic Imaging: Science and Technology, volume 1905, pages 861-870,\n",
            "     San Jose, CA, 1993.\n",
            "   - O.L. Mangasarian, W.N. Street and W.H. Wolberg. Breast cancer diagnosis and \n",
            "     prognosis via linear programming. Operations Research, 43(4), pages 570-577, \n",
            "     July-August 1995.\n",
            "   - W.H. Wolberg, W.N. Street, and O.L. Mangasarian. Machine learning techniques\n",
            "     to diagnose breast cancer from fine-needle aspirates. Cancer Letters 77 (1994) \n",
            "     163-171.\n"
          ],
          "name": "stdout"
        }
      ]
    },
    {
      "cell_type": "code",
      "metadata": {
        "id": "4PpIwPQL_mm8"
      },
      "source": [
        "#Retrieving the features and targets from the dataset\n",
        "\n",
        "data_features = dataset.data\n",
        "data_target = dataset.target"
      ],
      "execution_count": 3,
      "outputs": []
    },
    {
      "cell_type": "code",
      "metadata": {
        "id": "qD07wwkRBYLL"
      },
      "source": [
        "#Splitting the data for training and testing\n",
        "\n",
        "from sklearn.model_selection import train_test_split\n",
        "\n",
        "x_train, x_test, y_train, y_test = train_test_split(data_features, data_target, test_size = 0.2)"
      ],
      "execution_count": 4,
      "outputs": []
    },
    {
      "cell_type": "markdown",
      "metadata": {
        "id": "3P9lh1xgDw-f"
      },
      "source": [
        " **Neural Network Creation**"
      ]
    },
    {
      "cell_type": "code",
      "metadata": {
        "colab": {
          "base_uri": "https://localhost:8080/"
        },
        "id": "8vXVCaUuDljT",
        "outputId": "fba6d3a9-526c-484e-8189-5e3047ccb851"
      },
      "source": [
        "#Creating the Neural Network\n",
        "\n",
        "network = Sequential()\n",
        "network.add(Dense(64, input_dim = 30, activation = 'relu'))  #1st hidden layer\n",
        "network.add(Dense(128, activation = 'relu'))   #2nd hidden layer\n",
        "network.add(Dense(1, activation = 'sigmoid'))   #Final output layer\n",
        "\n",
        "#Getting the summary of the network\n",
        "\n",
        "network.summary()"
      ],
      "execution_count": 5,
      "outputs": [
        {
          "output_type": "stream",
          "text": [
            "Model: \"sequential\"\n",
            "_________________________________________________________________\n",
            "Layer (type)                 Output Shape              Param #   \n",
            "=================================================================\n",
            "dense (Dense)                (None, 64)                1984      \n",
            "_________________________________________________________________\n",
            "dense_1 (Dense)              (None, 128)               8320      \n",
            "_________________________________________________________________\n",
            "dense_2 (Dense)              (None, 1)                 129       \n",
            "=================================================================\n",
            "Total params: 10,433\n",
            "Trainable params: 10,433\n",
            "Non-trainable params: 0\n",
            "_________________________________________________________________\n"
          ],
          "name": "stdout"
        }
      ]
    },
    {
      "cell_type": "code",
      "metadata": {
        "id": "znNbCo5KHiGK"
      },
      "source": [
        "#Compiling the network\n",
        "\n",
        "network.compile(loss='binary_crossentropy', optimizer='adam', metrics=['accuracy'])"
      ],
      "execution_count": 6,
      "outputs": []
    },
    {
      "cell_type": "code",
      "metadata": {
        "colab": {
          "base_uri": "https://localhost:8080/"
        },
        "id": "NSMKOZgVHUSy",
        "outputId": "4d570f65-7ec8-471e-b23a-8aca447f2049"
      },
      "source": [
        "#Training the neural network\n",
        "\n",
        "network.fit(x_train, y_train, epochs = 20)"
      ],
      "execution_count": 7,
      "outputs": [
        {
          "output_type": "stream",
          "text": [
            "Epoch 1/20\n",
            "15/15 [==============================] - 1s 2ms/step - loss: 11.2550 - accuracy: 0.4769\n",
            "Epoch 2/20\n",
            "15/15 [==============================] - 0s 2ms/step - loss: 1.3036 - accuracy: 0.7978\n",
            "Epoch 3/20\n",
            "15/15 [==============================] - 0s 2ms/step - loss: 0.6431 - accuracy: 0.8659\n",
            "Epoch 4/20\n",
            "15/15 [==============================] - 0s 2ms/step - loss: 0.3978 - accuracy: 0.8967\n",
            "Epoch 5/20\n",
            "15/15 [==============================] - 0s 2ms/step - loss: 0.7767 - accuracy: 0.8615\n",
            "Epoch 6/20\n",
            "15/15 [==============================] - 0s 2ms/step - loss: 0.4893 - accuracy: 0.9011\n",
            "Epoch 7/20\n",
            "15/15 [==============================] - 0s 2ms/step - loss: 0.6035 - accuracy: 0.8769\n",
            "Epoch 8/20\n",
            "15/15 [==============================] - 0s 2ms/step - loss: 0.3685 - accuracy: 0.9055\n",
            "Epoch 9/20\n",
            "15/15 [==============================] - 0s 2ms/step - loss: 0.4216 - accuracy: 0.9121\n",
            "Epoch 10/20\n",
            "15/15 [==============================] - 0s 1ms/step - loss: 0.3028 - accuracy: 0.9165\n",
            "Epoch 11/20\n",
            "15/15 [==============================] - 0s 2ms/step - loss: 0.3274 - accuracy: 0.8945\n",
            "Epoch 12/20\n",
            "15/15 [==============================] - 0s 2ms/step - loss: 0.4409 - accuracy: 0.8901\n",
            "Epoch 13/20\n",
            "15/15 [==============================] - 0s 2ms/step - loss: 0.2823 - accuracy: 0.9143\n",
            "Epoch 14/20\n",
            "15/15 [==============================] - 0s 2ms/step - loss: 0.5973 - accuracy: 0.8396\n",
            "Epoch 15/20\n",
            "15/15 [==============================] - 0s 2ms/step - loss: 0.5135 - accuracy: 0.8637\n",
            "Epoch 16/20\n",
            "15/15 [==============================] - 0s 2ms/step - loss: 0.9539 - accuracy: 0.8374\n",
            "Epoch 17/20\n",
            "15/15 [==============================] - 0s 2ms/step - loss: 0.3552 - accuracy: 0.9099\n",
            "Epoch 18/20\n",
            "15/15 [==============================] - 0s 3ms/step - loss: 0.4927 - accuracy: 0.8703\n",
            "Epoch 19/20\n",
            "15/15 [==============================] - 0s 2ms/step - loss: 0.6611 - accuracy: 0.8505\n",
            "Epoch 20/20\n",
            "15/15 [==============================] - 0s 2ms/step - loss: 0.9097 - accuracy: 0.8330\n"
          ],
          "name": "stdout"
        },
        {
          "output_type": "execute_result",
          "data": {
            "text/plain": [
              "<tensorflow.python.keras.callbacks.History at 0x7f04224b1650>"
            ]
          },
          "metadata": {
            "tags": []
          },
          "execution_count": 7
        }
      ]
    },
    {
      "cell_type": "code",
      "metadata": {
        "colab": {
          "base_uri": "https://localhost:8080/"
        },
        "id": "bVig-pa9I_aN",
        "outputId": "d6262edb-435f-4e74-db4f-bea436a804fa"
      },
      "source": [
        "#Getting the results over the testing data\n",
        "\n",
        "results = network.evaluate(x_test, y_test)\n",
        "print(results)"
      ],
      "execution_count": 8,
      "outputs": [
        {
          "output_type": "stream",
          "text": [
            "4/4 [==============================] - 0s 4ms/step - loss: 0.1588 - accuracy: 0.9561\n",
            "[0.1587579995393753, 0.9561403393745422]\n"
          ],
          "name": "stdout"
        }
      ]
    },
    {
      "cell_type": "code",
      "metadata": {
        "colab": {
          "base_uri": "https://localhost:8080/"
        },
        "id": "dnLYs_y1JtNa",
        "outputId": "1707b5ef-29a9-4cef-9ff1-6970ea15356e"
      },
      "source": [
        "#Predicting the results of the testing dataset\n",
        "\n",
        "predictions = network.predict(x_test)\n",
        "for prediction in predictions:\n",
        "  if prediction >= 0.5:\n",
        "    print(\"The Cancer is Malignant!\")\n",
        "  else:\n",
        "    print(\"The Cancer in Benign!\")"
      ],
      "execution_count": 9,
      "outputs": [
        {
          "output_type": "stream",
          "text": [
            "The Cancer is Malignant!\n",
            "The Cancer is Malignant!\n",
            "The Cancer in Benign!\n",
            "The Cancer is Malignant!\n",
            "The Cancer in Benign!\n",
            "The Cancer in Benign!\n",
            "The Cancer is Malignant!\n",
            "The Cancer is Malignant!\n",
            "The Cancer in Benign!\n",
            "The Cancer is Malignant!\n",
            "The Cancer is Malignant!\n",
            "The Cancer is Malignant!\n",
            "The Cancer in Benign!\n",
            "The Cancer is Malignant!\n",
            "The Cancer is Malignant!\n",
            "The Cancer in Benign!\n",
            "The Cancer in Benign!\n",
            "The Cancer is Malignant!\n",
            "The Cancer is Malignant!\n",
            "The Cancer in Benign!\n",
            "The Cancer is Malignant!\n",
            "The Cancer is Malignant!\n",
            "The Cancer in Benign!\n",
            "The Cancer in Benign!\n",
            "The Cancer is Malignant!\n",
            "The Cancer in Benign!\n",
            "The Cancer in Benign!\n",
            "The Cancer is Malignant!\n",
            "The Cancer is Malignant!\n",
            "The Cancer is Malignant!\n",
            "The Cancer in Benign!\n",
            "The Cancer is Malignant!\n",
            "The Cancer is Malignant!\n",
            "The Cancer is Malignant!\n",
            "The Cancer in Benign!\n",
            "The Cancer is Malignant!\n",
            "The Cancer is Malignant!\n",
            "The Cancer is Malignant!\n",
            "The Cancer in Benign!\n",
            "The Cancer in Benign!\n",
            "The Cancer in Benign!\n",
            "The Cancer is Malignant!\n",
            "The Cancer is Malignant!\n",
            "The Cancer is Malignant!\n",
            "The Cancer is Malignant!\n",
            "The Cancer is Malignant!\n",
            "The Cancer in Benign!\n",
            "The Cancer is Malignant!\n",
            "The Cancer in Benign!\n",
            "The Cancer is Malignant!\n",
            "The Cancer in Benign!\n",
            "The Cancer in Benign!\n",
            "The Cancer is Malignant!\n",
            "The Cancer is Malignant!\n",
            "The Cancer is Malignant!\n",
            "The Cancer is Malignant!\n",
            "The Cancer in Benign!\n",
            "The Cancer is Malignant!\n",
            "The Cancer in Benign!\n",
            "The Cancer is Malignant!\n",
            "The Cancer in Benign!\n",
            "The Cancer in Benign!\n",
            "The Cancer in Benign!\n",
            "The Cancer is Malignant!\n",
            "The Cancer in Benign!\n",
            "The Cancer is Malignant!\n",
            "The Cancer in Benign!\n",
            "The Cancer is Malignant!\n",
            "The Cancer in Benign!\n",
            "The Cancer is Malignant!\n",
            "The Cancer is Malignant!\n",
            "The Cancer is Malignant!\n",
            "The Cancer is Malignant!\n",
            "The Cancer is Malignant!\n",
            "The Cancer in Benign!\n",
            "The Cancer in Benign!\n",
            "The Cancer in Benign!\n",
            "The Cancer is Malignant!\n",
            "The Cancer is Malignant!\n",
            "The Cancer is Malignant!\n",
            "The Cancer is Malignant!\n",
            "The Cancer in Benign!\n",
            "The Cancer is Malignant!\n",
            "The Cancer in Benign!\n",
            "The Cancer is Malignant!\n",
            "The Cancer is Malignant!\n",
            "The Cancer in Benign!\n",
            "The Cancer in Benign!\n",
            "The Cancer is Malignant!\n",
            "The Cancer is Malignant!\n",
            "The Cancer is Malignant!\n",
            "The Cancer in Benign!\n",
            "The Cancer in Benign!\n",
            "The Cancer is Malignant!\n",
            "The Cancer in Benign!\n",
            "The Cancer is Malignant!\n",
            "The Cancer is Malignant!\n",
            "The Cancer is Malignant!\n",
            "The Cancer is Malignant!\n",
            "The Cancer is Malignant!\n",
            "The Cancer is Malignant!\n",
            "The Cancer is Malignant!\n",
            "The Cancer is Malignant!\n",
            "The Cancer is Malignant!\n",
            "The Cancer is Malignant!\n",
            "The Cancer is Malignant!\n",
            "The Cancer in Benign!\n",
            "The Cancer in Benign!\n",
            "The Cancer is Malignant!\n",
            "The Cancer is Malignant!\n",
            "The Cancer is Malignant!\n",
            "The Cancer is Malignant!\n",
            "The Cancer in Benign!\n",
            "The Cancer is Malignant!\n"
          ],
          "name": "stdout"
        }
      ]
    }
  ]
}